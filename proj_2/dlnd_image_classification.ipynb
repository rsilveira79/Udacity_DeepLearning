{
 "cells": [
  {
   "cell_type": "markdown",
   "metadata": {
    "collapsed": true,
    "deletable": true,
    "editable": true
   },
   "source": [
    "# Image Classification\n",
    "In this project, you'll classify images from the [CIFAR-10 dataset](https://www.cs.toronto.edu/~kriz/cifar.html).  The dataset consists of airplanes, dogs, cats, and other objects. You'll preprocess the images, then train a convolutional neural network on all the samples. The images need to be normalized and the labels need to be one-hot encoded.  You'll get to apply what you learned and build a convolutional, max pooling, dropout, and fully connected layers.  At the end, you'll get to see your neural network's predictions on the sample images.\n",
    "## Get the Data\n",
    "Run the following cell to download the [CIFAR-10 dataset for python](https://www.cs.toronto.edu/~kriz/cifar-10-python.tar.gz)."
   ]
  },
  {
   "cell_type": "code",
   "execution_count": 1,
   "metadata": {
    "collapsed": false,
    "deletable": true,
    "editable": true
   },
   "outputs": [
    {
     "name": "stdout",
     "output_type": "stream",
     "text": [
      "All files found!\n"
     ]
    }
   ],
   "source": [
    "\"\"\"\n",
    "DON'T MODIFY ANYTHING IN THIS CELL THAT IS BELOW THIS LINE\n",
    "\"\"\"\n",
    "from urllib.request import urlretrieve\n",
    "from os.path import isfile, isdir\n",
    "from tqdm import tqdm\n",
    "import problem_unittests as tests\n",
    "import tarfile\n",
    "\n",
    "cifar10_dataset_folder_path = 'cifar-10-batches-py'\n",
    "\n",
    "class DLProgress(tqdm):\n",
    "    last_block = 0\n",
    "    def hook(self, block_num=1, block_size=1, total_size=None):\n",
    "        self.total = total_size\n",
    "        self.update((block_num - self.last_block) * block_size)\n",
    "        self.last_block = block_num\n",
    "\n",
    "if not isfile('cifar-10-python.tar.gz'):\n",
    "    with DLProgress(unit='B', unit_scale=True, miniters=1, desc='CIFAR-10 Dataset') as pbar:\n",
    "        urlretrieve(\n",
    "            'https://www.cs.toronto.edu/~kriz/cifar-10-python.tar.gz',\n",
    "            'cifar-10-python.tar.gz',\n",
    "            pbar.hook)\n",
    "\n",
    "if not isdir(cifar10_dataset_folder_path):\n",
    "    with tarfile.open('cifar-10-python.tar.gz') as tar:\n",
    "        tar.extractall()\n",
    "        tar.close()\n",
    "\n",
    "\n",
    "tests.test_folder_path(cifar10_dataset_folder_path)"
   ]
  },
  {
   "cell_type": "markdown",
   "metadata": {
    "deletable": true,
    "editable": true
   },
   "source": [
    "## Explore the Data\n",
    "The dataset is broken into batches to prevent your machine from running out of memory.  The CIFAR-10 dataset consists of 5 batches, named `data_batch_1`, `data_batch_2`, etc.. Each batch contains the labels and images that are one of the following:\n",
    "* airplane\n",
    "* automobile\n",
    "* bird\n",
    "* cat\n",
    "* deer\n",
    "* dog\n",
    "* frog\n",
    "* horse\n",
    "* ship\n",
    "* truck\n",
    "\n",
    "Understanding a dataset is part of making predictions on the data.  Play around with the code cell below by changing the `batch_id` and `sample_id`. The `batch_id` is the id for a batch (1-5). The `sample_id` is the id for a image and label pair in the batch.\n",
    "\n",
    "Ask yourself \"What are all possible labels?\", \"What is the range of values for the image data?\", \"Are the labels in order or random?\".  Answers to questions like these will help you preprocess the data and end up with better predictions."
   ]
  },
  {
   "cell_type": "code",
   "execution_count": 2,
   "metadata": {
    "collapsed": false,
    "deletable": true,
    "editable": true
   },
   "outputs": [
    {
     "name": "stdout",
     "output_type": "stream",
     "text": [
      "\n",
      "Stats of batch 1:\n",
      "Samples: 10000\n",
      "Label Counts: {0: 1005, 1: 974, 2: 1032, 3: 1016, 4: 999, 5: 937, 6: 1030, 7: 1001, 8: 1025, 9: 981}\n",
      "First 20 Labels: [6, 9, 9, 4, 1, 1, 2, 7, 8, 3, 4, 7, 7, 2, 9, 9, 9, 3, 2, 6]\n",
      "\n",
      "Example of Image 10:\n",
      "Image - Min Value: 24 Max Value: 130\n",
      "Image - Shape: (32, 32, 3)\n",
      "Label - Label Id: 4 Name: deer\n"
     ]
    },
    {
     "data": {
      "image/png": "[encoded data removed]",
      "text/plain": [
       "<matplotlib.figure.Figure at 0x7fe42500ce80>"
      ]
     },
     "metadata": {
      "image/png": {
       "height": 250,
       "width": 253
      }
     },
     "output_type": "display_data"
    }
   ],
   "source": [
    "%matplotlib inline\n",
    "%config InlineBackend.figure_format = 'retina'\n",
    "\n",
    "import helper\n",
    "import numpy as np\n",
    "\n",
    "# Explore the dataset\n",
    "batch_id = 1\n",
    "sample_id = 10\n",
    "helper.display_stats(cifar10_dataset_folder_path, batch_id, sample_id)"
   ]
  },
  {
   "cell_type": "markdown",
   "metadata": {
    "deletable": true,
    "editable": true
   },
   "source": [
    "## Implement Preprocess Functions\n",
    "### Normalize\n",
    "In the cell below, implement the `normalize` function to take in image data, `x`, and return it as a normalized Numpy array. The values should be in the range of 0 to 1, inclusive.  The return object should be the same shape as `x`."
   ]
  },
  {
   "cell_type": "code",
   "execution_count": 3,
   "metadata": {
    "collapsed": false,
    "deletable": true,
    "editable": true
   },
   "outputs": [
    {
     "name": "stdout",
     "output_type": "stream",
     "text": [
      "Tests Passed\n"
     ]
    }
   ],
   "source": [
    "def normalize(x):\n",
    "    \"\"\"\n",
    "    Normalize a list of sample image data in the range of 0 to 1\n",
    "    : x: List of image data.  The image shape is (32, 32, 3)\n",
    "    : return: Numpy array of normalize data\n",
    "    \"\"\"\n",
    "    norm = (x-x.min())/(x.max()-x.min())\n",
    "    return norm\n",
    "\n",
    "\n",
    "\"\"\"\n",
    "DON'T MODIFY ANYTHING IN THIS CELL THAT IS BELOW THIS LINE\n",
    "\"\"\"\n",
    "tests.test_normalize(normalize)"
   ]
  },
  {
   "cell_type": "markdown",
   "metadata": {
    "deletable": true,
    "editable": true
   },
   "source": [
    "### One-hot encode\n",
    "Just like the previous code cell, you'll be implementing a function for preprocessing.  This time, you'll implement the `one_hot_encode` function. The input, `x`, are a list of labels.  Implement the function to return the list of labels as One-Hot encoded Numpy array.  The possible values for labels are 0 to 9. The one-hot encoding function should return the same encoding for each value between each call to `one_hot_encode`.  Make sure to save the map of encodings outside the function.\n",
    "\n",
    "Hint: Don't reinvent the wheel."
   ]
  },
  {
   "cell_type": "code",
   "execution_count": 4,
   "metadata": {
    "collapsed": false,
    "deletable": true,
    "editable": true
   },
   "outputs": [
    {
     "name": "stdout",
     "output_type": "stream",
     "text": [
      "Tests Passed\n"
     ]
    }
   ],
   "source": [
    "def one_hot_encode(x):\n",
    "    \"\"\"\n",
    "    One hot encode a list of sample labels. Return a one-hot encoded vector for each label.\n",
    "    : x: List of sample Labels\n",
    "    : return: Numpy array of one-hot encoded labels\n",
    "    \"\"\"\n",
    "    one_hot = np.eye(10)[x]\n",
    "    return one_hot\n",
    "\n",
    "\n",
    "\"\"\"\n",
    "DON'T MODIFY ANYTHING IN THIS CELL THAT IS BELOW THIS LINE\n",
    "\"\"\"\n",
    "tests.test_one_hot_encode(one_hot_encode)"
   ]
  },
  {
   "cell_type": "markdown",
   "metadata": {
    "deletable": true,
    "editable": true
   },
   "source": [
    "### Randomize Data\n",
    "As you saw from exploring the data above, the order of the samples are randomized.  It doesn't hurt to randomize it again, but you don't need to for this dataset."
   ]
  },
  {
   "cell_type": "markdown",
   "metadata": {
    "deletable": true,
    "editable": true
   },
   "source": [
    "## Preprocess all the data and save it\n",
    "Running the code cell below will preprocess all the CIFAR-10 data and save it to file. The code below also uses 10% of the training data for validation."
   ]
  },
  {
   "cell_type": "code",
   "execution_count": 5,
   "metadata": {
    "collapsed": false,
    "deletable": true,
    "editable": true
   },
   "outputs": [],
   "source": [
    "\"\"\"\n",
    "DON'T MODIFY ANYTHING IN THIS CELL\n",
    "\"\"\"\n",
    "# Preprocess Training, Validation, and Testing Data\n",
    "helper.preprocess_and_save_data(cifar10_dataset_folder_path, normalize, one_hot_encode)"
   ]
  },
  {
   "cell_type": "markdown",
   "metadata": {
    "deletable": true,
    "editable": true
   },
   "source": [
    "# Check Point\n",
    "This is your first checkpoint.  If you ever decide to come back to this notebook or have to restart the notebook, you can start from here.  The preprocessed data has been saved to disk."
   ]
  },
  {
   "cell_type": "code",
   "execution_count": 6,
   "metadata": {
    "collapsed": false,
    "deletable": true,
    "editable": true
   },
   "outputs": [
    {
     "name": "stdout",
     "output_type": "stream",
     "text": [
      "[[[[ 0.54901961  0.49019608  0.45098039]\n",
      "   [ 0.57254902  0.50980392  0.47843137]\n",
      "   [ 0.56078431  0.49803922  0.47843137]\n",
      "   ..., \n",
      "   [ 0.66666667  0.56862745  0.51372549]\n",
      "   [ 0.69019608  0.58823529  0.5254902 ]\n",
      "   [ 0.66666667  0.57647059  0.52156863]]\n",
      "\n",
      "  [[ 0.4745098   0.42352941  0.50588235]\n",
      "   [ 0.50980392  0.4627451   0.54509804]\n",
      "   [ 0.5254902   0.4745098   0.56078431]\n",
      "   ..., \n",
      "   [ 0.63921569  0.55294118  0.61568627]\n",
      "   [ 0.66666667  0.57254902  0.63137255]\n",
      "   [ 0.66666667  0.58039216  0.63137255]]\n",
      "\n",
      "  [[ 0.59607843  0.54509804  0.68235294]\n",
      "   [ 0.61568627  0.56862745  0.70196078]\n",
      "   [ 0.60784314  0.56078431  0.68627451]\n",
      "   ..., \n",
      "   [ 0.69411765  0.60392157  0.75686275]\n",
      "   [ 0.70980392  0.61176471  0.76078431]\n",
      "   [ 0.71764706  0.62745098  0.76078431]]\n",
      "\n",
      "  ..., \n",
      "  [[ 0.49019608  0.43137255  0.4       ]\n",
      "   [ 0.50588235  0.43921569  0.40392157]\n",
      "   [ 0.29803922  0.2627451   0.18431373]\n",
      "   ..., \n",
      "   [ 0.65882353  0.5372549   0.47058824]\n",
      "   [ 0.61960784  0.49411765  0.40392157]\n",
      "   [ 0.57254902  0.45490196  0.34117647]]\n",
      "\n",
      "  [[ 0.33333333  0.30196078  0.2745098 ]\n",
      "   [ 0.36862745  0.31764706  0.27843137]\n",
      "   [ 0.29019608  0.25490196  0.17647059]\n",
      "   ..., \n",
      "   [ 0.63529412  0.51764706  0.41568627]\n",
      "   [ 0.65098039  0.5254902   0.39215686]\n",
      "   [ 0.61960784  0.50196078  0.36078431]]\n",
      "\n",
      "  [[ 0.49019608  0.43921569  0.43529412]\n",
      "   [ 0.50980392  0.44313725  0.43529412]\n",
      "   [ 0.41176471  0.35686275  0.29411765]\n",
      "   ..., \n",
      "   [ 0.51764706  0.41568627  0.30588235]\n",
      "   [ 0.50980392  0.39607843  0.25098039]\n",
      "   [ 0.55686275  0.45098039  0.30588235]]]\n",
      "\n",
      "\n",
      " [[[ 0.39215686  0.42745098  0.32941176]\n",
      "   [ 0.47843137  0.49411765  0.42745098]\n",
      "   [ 0.34117647  0.34117647  0.29803922]\n",
      "   ..., \n",
      "   [ 0.29411765  0.30588235  0.27058824]\n",
      "   [ 0.2745098   0.28627451  0.25098039]\n",
      "   [ 0.2745098   0.28627451  0.25098039]]\n",
      "\n",
      "  [[ 0.3372549   0.38823529  0.27843137]\n",
      "   [ 0.29803922  0.32941176  0.25882353]\n",
      "   [ 0.23529412  0.25098039  0.21176471]\n",
      "   ..., \n",
      "   [ 0.30588235  0.31764706  0.28235294]\n",
      "   [ 0.29803922  0.30980392  0.2745098 ]\n",
      "   [ 0.32156863  0.33333333  0.29803922]]\n",
      "\n",
      "  [[ 0.32941176  0.39215686  0.28627451]\n",
      "   [ 0.3254902   0.37254902  0.29411765]\n",
      "   [ 0.30196078  0.3372549   0.28235294]\n",
      "   ..., \n",
      "   [ 0.29019608  0.30196078  0.26666667]\n",
      "   [ 0.28627451  0.29803922  0.2627451 ]\n",
      "   [ 0.3254902   0.3372549   0.30196078]]\n",
      "\n",
      "  ..., \n",
      "  [[ 0.25098039  0.30196078  0.30980392]\n",
      "   [ 0.47843137  0.52156863  0.56470588]\n",
      "   [ 0.5254902   0.56862745  0.61176471]\n",
      "   ..., \n",
      "   [ 0.41176471  0.48235294  0.47058824]\n",
      "   [ 0.32941176  0.40392157  0.35686275]\n",
      "   [ 0.23529412  0.34509804  0.24705882]]\n",
      "\n",
      "  [[ 0.17254902  0.2         0.21960784]\n",
      "   [ 0.30588235  0.32941176  0.36862745]\n",
      "   [ 0.37647059  0.39607843  0.43137255]\n",
      "   ..., \n",
      "   [ 0.57647059  0.64705882  0.69803922]\n",
      "   [ 0.49411765  0.56078431  0.58431373]\n",
      "   [ 0.36862745  0.45882353  0.44313725]]\n",
      "\n",
      "  [[ 0.14117647  0.1372549   0.15294118]\n",
      "   [ 0.23137255  0.22745098  0.25882353]\n",
      "   [ 0.32156863  0.31764706  0.33333333]\n",
      "   ..., \n",
      "   [ 0.5254902   0.6         0.62745098]\n",
      "   [ 0.54117647  0.59607843  0.61960784]\n",
      "   [ 0.50980392  0.58039216  0.58823529]]]\n",
      "\n",
      "\n",
      " [[[ 0.0745098   0.1254902   0.05882353]\n",
      "   [ 0.08235294  0.14901961  0.08235294]\n",
      "   [ 0.10588235  0.19215686  0.1254902 ]\n",
      "   ..., \n",
      "   [ 0.29411765  0.48627451  0.51372549]\n",
      "   [ 0.29803922  0.48627451  0.50980392]\n",
      "   [ 0.27843137  0.4627451   0.48627451]]\n",
      "\n",
      "  [[ 0.09019608  0.12156863  0.05490196]\n",
      "   [ 0.08235294  0.11764706  0.04705882]\n",
      "   [ 0.09019608  0.1372549   0.05490196]\n",
      "   ..., \n",
      "   [ 0.28235294  0.4627451   0.49411765]\n",
      "   [ 0.29411765  0.46666667  0.48627451]\n",
      "   [ 0.26666667  0.43529412  0.44705882]]\n",
      "\n",
      "  [[ 0.09411765  0.14509804  0.06666667]\n",
      "   [ 0.08627451  0.1372549   0.0627451 ]\n",
      "   [ 0.09411765  0.14117647  0.07058824]\n",
      "   ..., \n",
      "   [ 0.25098039  0.42745098  0.43921569]\n",
      "   [ 0.2627451   0.42745098  0.43529412]\n",
      "   [ 0.25098039  0.41176471  0.41176471]]\n",
      "\n",
      "  ..., \n",
      "  [[ 0.24313725  0.18039216  0.09019608]\n",
      "   [ 0.23529412  0.18039216  0.10588235]\n",
      "   [ 0.21568627  0.18823529  0.10980392]\n",
      "   ..., \n",
      "   [ 0.05098039  0.02352941  0.01568627]\n",
      "   [ 0.04705882  0.05490196  0.03137255]\n",
      "   [ 0.09803922  0.15686275  0.11764706]]\n",
      "\n",
      "  [[ 0.24705882  0.20784314  0.11764706]\n",
      "   [ 0.19215686  0.17647059  0.08627451]\n",
      "   [ 0.17647059  0.18039216  0.09019608]\n",
      "   ..., \n",
      "   [ 0.11372549  0.1372549   0.12156863]\n",
      "   [ 0.11764706  0.16470588  0.14509804]\n",
      "   [ 0.10588235  0.19607843  0.16862745]]\n",
      "\n",
      "  [[ 0.27058824  0.20392157  0.11372549]\n",
      "   [ 0.19215686  0.14901961  0.07843137]\n",
      "   [ 0.21176471  0.18039216  0.10588235]\n",
      "   ..., \n",
      "   [ 0.25882353  0.34509804  0.33333333]\n",
      "   [ 0.15686275  0.26666667  0.25098039]\n",
      "   [ 0.11372549  0.24313725  0.22745098]]]\n",
      "\n",
      "\n",
      " ..., \n",
      " [[[ 0.1372549   0.69803922  0.92156863]\n",
      "   [ 0.15686275  0.69019608  0.9372549 ]\n",
      "   [ 0.16470588  0.69019608  0.94509804]\n",
      "   ..., \n",
      "   [ 0.38823529  0.69411765  0.85882353]\n",
      "   [ 0.30980392  0.57647059  0.77254902]\n",
      "   [ 0.34901961  0.58039216  0.74117647]]\n",
      "\n",
      "  [[ 0.22352941  0.71372549  0.91764706]\n",
      "   [ 0.17254902  0.72156863  0.98039216]\n",
      "   [ 0.19607843  0.71764706  0.94117647]\n",
      "   ..., \n",
      "   [ 0.61176471  0.71372549  0.78431373]\n",
      "   [ 0.55294118  0.69411765  0.80784314]\n",
      "   [ 0.45490196  0.58431373  0.68627451]]\n",
      "\n",
      "  [[ 0.38431373  0.77254902  0.92941176]\n",
      "   [ 0.25098039  0.74117647  0.98823529]\n",
      "   [ 0.27058824  0.75294118  0.96078431]\n",
      "   ..., \n",
      "   [ 0.7372549   0.76470588  0.80784314]\n",
      "   [ 0.46666667  0.52941176  0.57647059]\n",
      "   [ 0.23921569  0.30980392  0.35294118]]\n",
      "\n",
      "  ..., \n",
      "  [[ 0.28627451  0.30980392  0.30196078]\n",
      "   [ 0.20784314  0.24705882  0.26666667]\n",
      "   [ 0.21176471  0.26666667  0.31372549]\n",
      "   ..., \n",
      "   [ 0.06666667  0.15686275  0.25098039]\n",
      "   [ 0.08235294  0.14117647  0.2       ]\n",
      "   [ 0.12941176  0.18823529  0.19215686]]\n",
      "\n",
      "  [[ 0.23921569  0.26666667  0.29411765]\n",
      "   [ 0.21568627  0.2745098   0.3372549 ]\n",
      "   [ 0.22352941  0.30980392  0.40392157]\n",
      "   ..., \n",
      "   [ 0.09411765  0.18823529  0.28235294]\n",
      "   [ 0.06666667  0.1372549   0.20784314]\n",
      "   [ 0.02745098  0.09019608  0.1254902 ]]\n",
      "\n",
      "  [[ 0.17254902  0.21960784  0.28627451]\n",
      "   [ 0.18039216  0.25882353  0.34509804]\n",
      "   [ 0.19215686  0.30196078  0.41176471]\n",
      "   ..., \n",
      "   [ 0.10588235  0.20392157  0.30196078]\n",
      "   [ 0.08235294  0.16862745  0.25882353]\n",
      "   [ 0.04705882  0.12156863  0.19607843]]]\n",
      "\n",
      "\n",
      " [[[ 0.74117647  0.82745098  0.94117647]\n",
      "   [ 0.72941176  0.81568627  0.9254902 ]\n",
      "   [ 0.7254902   0.81176471  0.92156863]\n",
      "   ..., \n",
      "   [ 0.68627451  0.76470588  0.87843137]\n",
      "   [ 0.6745098   0.76078431  0.87058824]\n",
      "   [ 0.6627451   0.76078431  0.8627451 ]]\n",
      "\n",
      "  [[ 0.76078431  0.82352941  0.9372549 ]\n",
      "   [ 0.74901961  0.81176471  0.9254902 ]\n",
      "   [ 0.74509804  0.80784314  0.92156863]\n",
      "   ..., \n",
      "   [ 0.67843137  0.75294118  0.8627451 ]\n",
      "   [ 0.67058824  0.74901961  0.85490196]\n",
      "   [ 0.65490196  0.74509804  0.84705882]]\n",
      "\n",
      "  [[ 0.81568627  0.85882353  0.95686275]\n",
      "   [ 0.80392157  0.84705882  0.94117647]\n",
      "   [ 0.8         0.84313725  0.9372549 ]\n",
      "   ..., \n",
      "   [ 0.68627451  0.74901961  0.85098039]\n",
      "   [ 0.6745098   0.74509804  0.84705882]\n",
      "   [ 0.6627451   0.74901961  0.84313725]]\n",
      "\n",
      "  ..., \n",
      "  [[ 0.81176471  0.78039216  0.70980392]\n",
      "   [ 0.79607843  0.76470588  0.68627451]\n",
      "   [ 0.79607843  0.76862745  0.67843137]\n",
      "   ..., \n",
      "   [ 0.52941176  0.51764706  0.49803922]\n",
      "   [ 0.63529412  0.61960784  0.58823529]\n",
      "   [ 0.65882353  0.63921569  0.59215686]]\n",
      "\n",
      "  [[ 0.77647059  0.74509804  0.66666667]\n",
      "   [ 0.74117647  0.70980392  0.62352941]\n",
      "   [ 0.70588235  0.6745098   0.57647059]\n",
      "   ..., \n",
      "   [ 0.69803922  0.67058824  0.62745098]\n",
      "   [ 0.68627451  0.6627451   0.61176471]\n",
      "   [ 0.68627451  0.6627451   0.60392157]]\n",
      "\n",
      "  [[ 0.77647059  0.74117647  0.67843137]\n",
      "   [ 0.74117647  0.70980392  0.63529412]\n",
      "   [ 0.69803922  0.66666667  0.58431373]\n",
      "   ..., \n",
      "   [ 0.76470588  0.72156863  0.6627451 ]\n",
      "   [ 0.76862745  0.74117647  0.67058824]\n",
      "   [ 0.76470588  0.74509804  0.67058824]]]\n",
      "\n",
      "\n",
      " [[[ 0.89803922  0.89803922  0.9372549 ]\n",
      "   [ 0.9254902   0.92941176  0.96862745]\n",
      "   [ 0.91764706  0.9254902   0.96862745]\n",
      "   ..., \n",
      "   [ 0.85098039  0.85882353  0.91372549]\n",
      "   [ 0.86666667  0.8745098   0.91764706]\n",
      "   [ 0.87058824  0.8745098   0.91372549]]\n",
      "\n",
      "  [[ 0.87058824  0.86666667  0.89803922]\n",
      "   [ 0.9372549   0.9372549   0.97647059]\n",
      "   [ 0.91372549  0.91764706  0.96470588]\n",
      "   ..., \n",
      "   [ 0.8745098   0.8745098   0.9254902 ]\n",
      "   [ 0.89019608  0.89411765  0.93333333]\n",
      "   [ 0.82352941  0.82745098  0.8627451 ]]\n",
      "\n",
      "  [[ 0.83529412  0.80784314  0.82745098]\n",
      "   [ 0.91764706  0.90980392  0.9372549 ]\n",
      "   [ 0.90588235  0.91372549  0.95686275]\n",
      "   ..., \n",
      "   [ 0.8627451   0.8627451   0.90980392]\n",
      "   [ 0.8627451   0.85882353  0.90980392]\n",
      "   [ 0.79215686  0.79607843  0.84313725]]\n",
      "\n",
      "  ..., \n",
      "  [[ 0.58823529  0.56078431  0.52941176]\n",
      "   [ 0.54901961  0.52941176  0.49803922]\n",
      "   [ 0.51764706  0.49803922  0.47058824]\n",
      "   ..., \n",
      "   [ 0.87843137  0.87058824  0.85490196]\n",
      "   [ 0.90196078  0.89411765  0.88235294]\n",
      "   [ 0.94509804  0.94509804  0.93333333]]\n",
      "\n",
      "  [[ 0.5372549   0.51764706  0.49411765]\n",
      "   [ 0.50980392  0.49803922  0.47058824]\n",
      "   [ 0.49019608  0.4745098   0.45098039]\n",
      "   ..., \n",
      "   [ 0.70980392  0.70588235  0.69803922]\n",
      "   [ 0.79215686  0.78823529  0.77647059]\n",
      "   [ 0.83137255  0.82745098  0.81176471]]\n",
      "\n",
      "  [[ 0.47843137  0.46666667  0.44705882]\n",
      "   [ 0.4627451   0.45490196  0.43137255]\n",
      "   [ 0.47058824  0.45490196  0.43529412]\n",
      "   ..., \n",
      "   [ 0.70196078  0.69411765  0.67843137]\n",
      "   [ 0.64313725  0.64313725  0.63529412]\n",
      "   [ 0.63921569  0.63921569  0.63137255]]]]\n",
      "[[ 0.  0.  0. ...,  0.  0.  0.]\n",
      " [ 0.  0.  1. ...,  0.  0.  0.]\n",
      " [ 0.  0.  1. ...,  0.  0.  0.]\n",
      " ..., \n",
      " [ 0.  0.  0. ...,  0.  0.  1.]\n",
      " [ 0.  1.  0. ...,  0.  0.  0.]\n",
      " [ 0.  1.  0. ...,  0.  0.  0.]]\n"
     ]
    }
   ],
   "source": [
    "\"\"\"\n",
    "DON'T MODIFY ANYTHING IN THIS CELL\n",
    "\"\"\"\n",
    "import pickle\n",
    "import problem_unittests as tests\n",
    "import helper\n",
    "\n",
    "# Load the Preprocessed Validation data\n",
    "valid_features, valid_labels = pickle.load(open('preprocess_validation.p', mode='rb'))\n",
    "print(valid_features)\n",
    "print(valid_labels)"
   ]
  },
  {
   "cell_type": "markdown",
   "metadata": {
    "deletable": true,
    "editable": true
   },
   "source": [
    "## Build the network\n",
    "For the neural network, you'll build each layer into a function.  Most of the code you've seen has been outside of functions. To test your code more thoroughly, we require that you put each layer in a function.  This allows us to give you better feedback and test for simple mistakes using our unittests before you submit your project.\n",
    "\n",
    ">**Note:** If you're finding it hard to dedicate enough time for this course each week, we've provided a small shortcut to this part of the project. In the next couple of problems, you'll have the option to use classes from the [TensorFlow Layers](https://www.tensorflow.org/api_docs/python/tf/layers) or [TensorFlow Layers (contrib)](https://www.tensorflow.org/api_guides/python/contrib.layers) packages to build each layer, except the layers you build in the \"Convolutional and Max Pooling Layer\" section.  TF Layers is similar to Keras's and TFLearn's abstraction to layers, so it's easy to pickup.\n",
    "\n",
    ">However, if you would like to get the most out of this course, try to solve all the problems _without_ using anything from the TF Layers packages. You **can** still use classes from other packages that happen to have the same name as ones you find in TF Layers! For example, instead of using the TF Layers version of the `conv2d` class, [tf.layers.conv2d](https://www.tensorflow.org/api_docs/python/tf/layers/conv2d), you would want to use the TF Neural Network version of `conv2d`, [tf.nn.conv2d](https://www.tensorflow.org/api_docs/python/tf/nn/conv2d). \n",
    "\n",
    "Let's begin!\n",
    "\n",
    "### Input\n",
    "The neural network needs to read the image data, one-hot encoded labels, and dropout keep probability. Implement the following functions\n",
    "* Implement `neural_net_image_input`\n",
    " * Return a [TF Placeholder](https://www.tensorflow.org/api_docs/python/tf/placeholder)\n",
    " * Set the shape using `image_shape` with batch size set to `None`.\n",
    " * Name the TensorFlow placeholder \"x\" using the TensorFlow `name` parameter in the [TF Placeholder](https://www.tensorflow.org/api_docs/python/tf/placeholder).\n",
    "* Implement `neural_net_label_input`\n",
    " * Return a [TF Placeholder](https://www.tensorflow.org/api_docs/python/tf/placeholder)\n",
    " * Set the shape using `n_classes` with batch size set to `None`.\n",
    " * Name the TensorFlow placeholder \"y\" using the TensorFlow `name` parameter in the [TF Placeholder](https://www.tensorflow.org/api_docs/python/tf/placeholder).\n",
    "* Implement `neural_net_keep_prob_input`\n",
    " * Return a [TF Placeholder](https://www.tensorflow.org/api_docs/python/tf/placeholder) for dropout keep probability.\n",
    " * Name the TensorFlow placeholder \"keep_prob\" using the TensorFlow `name` parameter in the [TF Placeholder](https://www.tensorflow.org/api_docs/python/tf/placeholder).\n",
    "\n",
    "These names will be used at the end of the project to load your saved model.\n",
    "\n",
    "Note: `None` for shapes in TensorFlow allow for a dynamic size."
   ]
  },
  {
   "cell_type": "code",
   "execution_count": 19,
   "metadata": {
    "collapsed": false,
    "deletable": true,
    "editable": true
   },
   "outputs": [
    {
     "name": "stdout",
     "output_type": "stream",
     "text": [
      "Image Input Tests Passed.\n",
      "Label Input Tests Passed.\n",
      "Keep Prob Tests Passed.\n"
     ]
    }
   ],
   "source": [
    "import tensorflow as tf\n",
    "\n",
    "def neural_net_image_input(image_shape):\n",
    "    \"\"\"\n",
    "    Return a Tensor for a bach of image input\n",
    "    : image_shape: Shape of the images\n",
    "    : return: Tensor for image input.\n",
    "    \"\"\"\n",
    "    return tf.placeholder(dtype=tf.float32, shape=[None, image_shape[0], image_shape[1], image_shape[2]], name=\"x\")\n",
    "\n",
    "def neural_net_label_input(n_classes):\n",
    "    \"\"\"\n",
    "    Return a Tensor for a batch of label input\n",
    "    : n_classes: Number of classes\n",
    "    : return: Tensor for label input.\n",
    "    \"\"\"\n",
    "    return tf.placeholder(dtype=tf.float32, shape=[None, n_classes], name=\"y\")\n",
    "\n",
    "\n",
    "def neural_net_keep_prob_input():\n",
    "    \"\"\"\n",
    "    Return a Tensor for keep probability\n",
    "    : return: Tensor for keep probability.\n",
    "    \"\"\"\n",
    "    return tf.placeholder(dtype=tf.float32, name=\"keep_prob\")\n",
    "\n",
    "\n",
    "\n",
    "\"\"\"\n",
    "DON'T MODIFY ANYTHING IN THIS CELL THAT IS BELOW THIS LINE\n",
    "\"\"\"\n",
    "tf.reset_default_graph()\n",
    "tests.test_nn_image_inputs(neural_net_image_input)\n",
    "tests.test_nn_label_inputs(neural_net_label_input)\n",
    "tests.test_nn_keep_prob_inputs(neural_net_keep_prob_input)"
   ]
  },
  {
   "cell_type": "markdown",
   "metadata": {
    "deletable": true,
    "editable": true
   },
   "source": [
    "### Convolution and Max Pooling Layer\n",
    "Convolution layers have a lot of success with images. For this code cell, you should implement the function `conv2d_maxpool` to apply convolution then max pooling:\n",
    "* Create the weight and bias using `conv_ksize`, `conv_num_outputs` and the shape of `x_tensor`.\n",
    "* Apply a convolution to `x_tensor` using weight and `conv_strides`.\n",
    " * We recommend you use same padding, but you're welcome to use any padding.\n",
    "* Add bias\n",
    "* Add a nonlinear activation to the convolution.\n",
    "* Apply Max Pooling using `pool_ksize` and `pool_strides`.\n",
    " * We recommend you use same padding, but you're welcome to use any padding.\n",
    "\n",
    "**Note:** You **can't** use [TensorFlow Layers](https://www.tensorflow.org/api_docs/python/tf/layers) or [TensorFlow Layers (contrib)](https://www.tensorflow.org/api_guides/python/contrib.layers) for **this** layer, but you can still use TensorFlow's [Neural Network](https://www.tensorflow.org/api_docs/python/tf/nn) package. You may still use the shortcut option for all the **other** layers."
   ]
  },
  {
   "cell_type": "code",
   "execution_count": 22,
   "metadata": {
    "collapsed": false,
    "deletable": true,
    "editable": true
   },
   "outputs": [
    {
     "name": "stdout",
     "output_type": "stream",
     "text": [
      "Tests Passed\n"
     ]
    }
   ],
   "source": [
    "def conv2d_maxpool(x_tensor, conv_num_outputs, conv_ksize, conv_strides, pool_ksize, pool_strides):\n",
    "    \"\"\"\n",
    "    Apply convolution then max pooling to x_tensor\n",
    "    :param x_tensor: TensorFlow Tensor\n",
    "    :param conv_num_outputs: Number of outputs for the convolutional layer\n",
    "    :param conv_ksize: kernal size 2-D Tuple for the convolutional layer\n",
    "    :param conv_strides: Stride 2-D Tuple for convolution\n",
    "    :param pool_ksize: kernal size 2-D Tuple for pool\n",
    "    :param pool_strides: Stride 2-D Tuple for pool\n",
    "    : return: A tensor that represents convolution and max pooling of x_tensor\n",
    "    \"\"\"\n",
    "\n",
    "    # Calculate input depth\n",
    "    in_depth = int(x_tensor.get_shape()[3])\n",
    "    \n",
    "    # Input tensor for Weights\n",
    "    filter_w = tf.Variable(tf.truncated_normal([conv_ksize[0],conv_ksize[1], in_depth,conv_num_outputs], mean=0, stddev=0.1))\n",
    "    \n",
    "    filter_b = tf.Variable(tf.zeros(conv_num_outputs))\n",
    "    \n",
    "    #Conv Layer - apply convolution with strides and padding, add bias + ReLu activation\n",
    "    conv_layer = tf.nn.conv2d(x_tensor, filter_w, strides=[1, conv_strides[0], conv_strides[1], 1], padding='SAME')\n",
    "    conv_layer = tf.nn.bias_add(conv_layer, filter_b)\n",
    "    conv_layer = tf.nn.relu(conv_layer)\n",
    "\n",
    "    # Apply Max Pooling\n",
    "    conv_layer = tf.nn.max_pool(conv_layer, ksize=[1, pool_ksize[0], pool_ksize[1], 1],strides=[1, pool_strides[0], pool_strides[1], 1],padding='SAME')\n",
    "    \n",
    "    return conv_layer \n",
    "\n",
    "\"\"\"\n",
    "DON'T MODIFY ANYTHING IN THIS CELL THAT IS BELOW THIS LINE\n",
    "\"\"\"\n",
    "tests.test_con_pool(conv2d_maxpool)"
   ]
  },
  {
   "cell_type": "markdown",
   "metadata": {
    "deletable": true,
    "editable": true
   },
   "source": [
    "### Flatten Layer\n",
    "Implement the `flatten` function to change the dimension of `x_tensor` from a 4-D tensor to a 2-D tensor.  The output should be the shape (*Batch Size*, *Flattened Image Size*). Shortcut option: you can use classes from the [TensorFlow Layers](https://www.tensorflow.org/api_docs/python/tf/layers) or [TensorFlow Layers (contrib)](https://www.tensorflow.org/api_guides/python/contrib.layers) packages for this layer. For more of a challenge, only use other TensorFlow packages."
   ]
  },
  {
   "cell_type": "code",
   "execution_count": 24,
   "metadata": {
    "collapsed": false,
    "deletable": true,
    "editable": true
   },
   "outputs": [
    {
     "name": "stdout",
     "output_type": "stream",
     "text": [
      "Tests Passed\n"
     ]
    }
   ],
   "source": [
    "def flatten(x_tensor):\n",
    "    \"\"\"\n",
    "    Flatten x_tensor to (Batch Size, Flattened Image Size)\n",
    "    : x_tensor: A tensor of size (Batch Size, ...), where ... are the image dimensions.\n",
    "    : return: A tensor of size (Batch Size, Flattened Image Size).\n",
    "    \"\"\"\n",
    "    # Flatten x_tensor\n",
    "    x_flat = tf.contrib.layers.flatten(x_tensor)\n",
    "    return x_flat\n",
    "\n",
    "\n",
    "\"\"\"\n",
    "DON'T MODIFY ANYTHING IN THIS CELL THAT IS BELOW THIS LINE\n",
    "\"\"\"\n",
    "tests.test_flatten(flatten)"
   ]
  },
  {
   "cell_type": "markdown",
   "metadata": {
    "deletable": true,
    "editable": true
   },
   "source": [
    "### Fully-Connected Layer\n",
    "Implement the `fully_conn` function to apply a fully connected layer to `x_tensor` with the shape (*Batch Size*, *num_outputs*). Shortcut option: you can use classes from the [TensorFlow Layers](https://www.tensorflow.org/api_docs/python/tf/layers) or [TensorFlow Layers (contrib)](https://www.tensorflow.org/api_guides/python/contrib.layers) packages for this layer. For more of a challenge, only use other TensorFlow packages."
   ]
  },
  {
   "cell_type": "code",
   "execution_count": 27,
   "metadata": {
    "collapsed": false,
    "deletable": true,
    "editable": true
   },
   "outputs": [
    {
     "name": "stdout",
     "output_type": "stream",
     "text": [
      "Tests Passed\n"
     ]
    }
   ],
   "source": [
    "def fully_conn(x_tensor, num_outputs):\n",
    "    \"\"\"\n",
    "    Apply a fully connected layer to x_tensor using weight and bias\n",
    "    : x_tensor: A 2-D tensor where the first dimension is batch size.\n",
    "    : num_outputs: The number of output that the new tensor should be.\n",
    "    : return: A 2-D tensor where the second dimension is num_outputs.\n",
    "    \"\"\"\n",
    "    #  Implement fully connected layers\n",
    "    fully = tf.contrib.layers.fully_connected(x_tensor,num_outputs)\n",
    "    return fully\n",
    "\n",
    "\n",
    "\"\"\"\n",
    "DON'T MODIFY ANYTHING IN THIS CELL THAT IS BELOW THIS LINE\n",
    "\"\"\"\n",
    "tests.test_fully_conn(fully_conn)"
   ]
  },
  {
   "cell_type": "markdown",
   "metadata": {
    "deletable": true,
    "editable": true
   },
   "source": [
    "### Output Layer\n",
    "Implement the `output` function to apply a fully connected layer to `x_tensor` with the shape (*Batch Size*, *num_outputs*). Shortcut option: you can use classes from the [TensorFlow Layers](https://www.tensorflow.org/api_docs/python/tf/layers) or [TensorFlow Layers (contrib)](https://www.tensorflow.org/api_guides/python/contrib.layers) packages for this layer. For more of a challenge, only use other TensorFlow packages.\n",
    "\n",
    "**Note:** Activation, softmax, or cross entropy should **not** be applied to this."
   ]
  },
  {
   "cell_type": "code",
   "execution_count": 28,
   "metadata": {
    "collapsed": false,
    "deletable": true,
    "editable": true
   },
   "outputs": [
    {
     "name": "stdout",
     "output_type": "stream",
     "text": [
      "Tests Passed\n"
     ]
    }
   ],
   "source": [
    "def output(x_tensor, num_outputs):\n",
    "    \"\"\"\n",
    "    Apply a output layer to x_tensor using weight and bias\n",
    "    : x_tensor: A 2-D tensor where the first dimension is batch size.\n",
    "    : num_outputs: The number of output that the new tensor should be.\n",
    "    : return: A 2-D tensor where the second dimension is num_outputs.\n",
    "    \"\"\"\n",
    "    # Implement output layer w/o softmax\n",
    "    out = fully_conn(x_tensor, num_outputs)\n",
    "    return out\n",
    "\n",
    "\n",
    "\"\"\"\n",
    "DON'T MODIFY ANYTHING IN THIS CELL THAT IS BELOW THIS LINE\n",
    "\"\"\"\n",
    "tests.test_output(output)"
   ]
  },
  {
   "cell_type": "markdown",
   "metadata": {
    "deletable": true,
    "editable": true
   },
   "source": [
    "### Create Convolutional Model\n",
    "Implement the function `conv_net` to create a convolutional neural network model. The function takes in a batch of images, `x`, and outputs logits.  Use the layers you created above to create this model:\n",
    "\n",
    "* Apply 1, 2, or 3 Convolution and Max Pool layers\n",
    "* Apply a Flatten Layer\n",
    "* Apply 1, 2, or 3 Fully Connected Layers\n",
    "* Apply an Output Layer\n",
    "* Return the output\n",
    "* Apply [TensorFlow's Dropout](https://www.tensorflow.org/api_docs/python/tf/nn/dropout) to one or more layers in the model using `keep_prob`. "
   ]
  },
  {
   "cell_type": "code",
   "execution_count": 84,
   "metadata": {
    "collapsed": false,
    "deletable": true,
    "editable": true
   },
   "outputs": [
    {
     "name": "stdout",
     "output_type": "stream",
     "text": [
      "Neural Network Built!\n"
     ]
    }
   ],
   "source": [
    "def conv_net(x, keep_prob):\n",
    "    \"\"\"\n",
    "    Create a convolutional neural network model\n",
    "    : x: Placeholder tensor that holds image data.\n",
    "    : keep_prob: Placeholder tensor that hold dropout keep probability.\n",
    "    : return: Tensor that represents logits\n",
    "    \"\"\"\n",
    "    #    Play around with different number of outputs, kernel size and stride\n",
    "    # Function Definition from Above:\n",
    "    #    conv2d_maxpool(x_tensor, conv_num_outputs, conv_ksize, conv_strides, pool_ksize, pool_strides)\n",
    "    \n",
    "    # Define network paramerters\n",
    "    \n",
    "    conv_ksize = [4, 4]\n",
    "    conv_strides = [1, 1]\n",
    "    pool_ksize = [2, 2]\n",
    "    pool_strides = [2, 2]\n",
    "    \n",
    "    # Define the layers\n",
    "    l_1=conv2d_maxpool(x,  16, conv_ksize, conv_strides, pool_ksize, pool_strides)\n",
    "    l_2=conv2d_maxpool(l_1,32, conv_ksize, conv_strides, pool_ksize, pool_strides)\n",
    "    l_3=conv2d_maxpool(l_2,96, conv_ksize, conv_strides, pool_ksize, pool_strides)\n",
    "    \n",
    "    # TODO: Apply a Flatten Layer\n",
    "    # Function Definition from Above:\n",
    "    #   flatten(x_tensor)\n",
    "    flat_l=flatten(l_3)\n",
    "\n",
    "    # TODO: Apply 1, 2, or 3 Fully Connected Layers\n",
    "    #    Play around with different number of outputs\n",
    "    # Function Definition from Above:\n",
    "    #   fully_conn(x_tensor, num_outputs)\n",
    "    \n",
    "    fully_1=fully_conn(flat_l,96)\n",
    "    dropped_1=tf.nn.dropout(fully_1,keep_prob)\n",
    "    fully_2=fully_conn(dropped_1,32)\n",
    "    dropped_2=tf.nn.dropout(fully_2,keep_prob)\n",
    "    \n",
    "    # Function Definition from Above:\n",
    "    #   output(x_tensor, num_outputs)\n",
    "    \n",
    "    output = fully_conn(dropped_2, 10) \n",
    "    # TODO: return output\n",
    "    return output\n",
    "\n",
    "\n",
    "\"\"\"\n",
    "DON'T MODIFY ANYTHING IN THIS CELL THAT IS BELOW THIS LINE\n",
    "\"\"\"\n",
    "\n",
    "##############################\n",
    "## Build the Neural Network ##\n",
    "##############################\n",
    "\n",
    "# Remove previous weights, bias, inputs, etc..\n",
    "tf.reset_default_graph()\n",
    "\n",
    "# Inputs\n",
    "x = neural_net_image_input((32, 32, 3))\n",
    "y = neural_net_label_input(10)\n",
    "keep_prob = neural_net_keep_prob_input()\n",
    "\n",
    "# Model\n",
    "logits = conv_net(x, keep_prob)\n",
    "\n",
    "# Name logits Tensor, so that is can be loaded from disk after training\n",
    "logits = tf.identity(logits, name='logits')\n",
    "\n",
    "# Loss and Optimizer\n",
    "cost = tf.reduce_mean(tf.nn.softmax_cross_entropy_with_logits(logits=logits, labels=y))\n",
    "optimizer = tf.train.AdamOptimizer().minimize(cost)\n",
    "\n",
    "# Accuracy\n",
    "correct_pred = tf.equal(tf.argmax(logits, 1), tf.argmax(y, 1))\n",
    "accuracy = tf.reduce_mean(tf.cast(correct_pred, tf.float32), name='accuracy')\n",
    "\n",
    "tests.test_conv_net(conv_net)"
   ]
  },
  {
   "cell_type": "markdown",
   "metadata": {
    "deletable": true,
    "editable": true
   },
   "source": [
    "## Train the Neural Network\n",
    "### Single Optimization\n",
    "Implement the function `train_neural_network` to do a single optimization.  The optimization should use `optimizer` to optimize in `session` with a `feed_dict` of the following:\n",
    "* `x` for image input\n",
    "* `y` for labels\n",
    "* `keep_prob` for keep probability for dropout\n",
    "\n",
    "This function will be called for each batch, so `tf.global_variables_initializer()` has already been called.\n",
    "\n",
    "Note: Nothing needs to be returned. This function is only optimizing the neural network."
   ]
  },
  {
   "cell_type": "code",
   "execution_count": 85,
   "metadata": {
    "collapsed": false,
    "deletable": true,
    "editable": true
   },
   "outputs": [
    {
     "name": "stdout",
     "output_type": "stream",
     "text": [
      "Tests Passed\n"
     ]
    }
   ],
   "source": [
    "def train_neural_network(session, optimizer, keep_probability, feature_batch, label_batch):\n",
    "    \"\"\"\n",
    "    Optimize the session on a batch of images and labels\n",
    "    : session: Current TensorFlow session\n",
    "    : optimizer: TensorFlow optimizer function\n",
    "    : keep_probability: keep probability\n",
    "    : feature_batch: Batch of Numpy image data\n",
    "    : label_batch: Batch of Numpy label data\n",
    "    \"\"\"\n",
    "    session.run(optimizer, \n",
    "                feed_dict={\n",
    "                    x: feature_batch, \n",
    "                    y: label_batch, \n",
    "                    keep_prob: keep_probability})\n",
    "\n",
    "\"\"\"\n",
    "DON'T MODIFY ANYTHING IN THIS CELL THAT IS BELOW THIS LINE\n",
    "\"\"\"\n",
    "tests.test_train_nn(train_neural_network)"
   ]
  },
  {
   "cell_type": "markdown",
   "metadata": {
    "deletable": true,
    "editable": true
   },
   "source": [
    "### Show Stats\n",
    "Implement the function `print_stats` to print loss and validation accuracy.  Use the global variables `valid_features` and `valid_labels` to calculate validation accuracy.  Use a keep probability of `1.0` to calculate the loss and validation accuracy."
   ]
  },
  {
   "cell_type": "code",
   "execution_count": 86,
   "metadata": {
    "collapsed": false,
    "deletable": true,
    "editable": true
   },
   "outputs": [],
   "source": [
    "def print_stats(session, feature_batch, label_batch, cost, accuracy):\n",
    "    \"\"\"\n",
    "    Print information about loss and validation accuracy\n",
    "    : session: Current TensorFlow session\n",
    "    : feature_batch: Batch of Numpy image data\n",
    "    : label_batch: Batch of Numpy label data\n",
    "    : cost: TensorFlow cost function\n",
    "    : accuracy: TensorFlow accuracy function\n",
    "    \"\"\"\n",
    "    loss_value = session.run(cost, feed_dict={\n",
    "                                                x: feature_batch,\n",
    "                                                y: label_batch,\n",
    "                                                keep_prob: 1.0})\n",
    "    acc_value = session.run(accuracy, feed_dict={\n",
    "                                                x: valid_features,\n",
    "                                                y: valid_labels,\n",
    "                                                keep_prob:1.0})\n",
    "    \n",
    "    print(\"Calculated loss: {0} ______  Calculated accuracy: {1}\".format(loss_value, acc_value))"
   ]
  },
  {
   "cell_type": "markdown",
   "metadata": {
    "deletable": true,
    "editable": true
   },
   "source": [
    "### Hyperparameters\n",
    "Tune the following parameters:\n",
    "* Set `epochs` to the number of iterations until the network stops learning or start overfitting\n",
    "* Set `batch_size` to the highest number that your machine has memory for.  Most people set them to common sizes of memory:\n",
    " * 64\n",
    " * 128\n",
    " * 256\n",
    " * ...\n",
    "* Set `keep_probability` to the probability of keeping a node using dropout"
   ]
  },
  {
   "cell_type": "code",
   "execution_count": 94,
   "metadata": {
    "collapsed": true,
    "deletable": true,
    "editable": true
   },
   "outputs": [],
   "source": [
    "# TODO: Tune Parameters\n",
    "epochs = 20\n",
    "batch_size = 256\n",
    "keep_probability = 0.7"
   ]
  },
  {
   "cell_type": "markdown",
   "metadata": {
    "deletable": true,
    "editable": true
   },
   "source": [
    "### Train on a Single CIFAR-10 Batch\n",
    "Instead of training the neural network on all the CIFAR-10 batches of data, let's use a single batch. This should save time while you iterate on the model to get a better accuracy.  Once the final validation accuracy is 50% or greater, run the model on all the data in the next section."
   ]
  },
  {
   "cell_type": "code",
   "execution_count": 95,
   "metadata": {
    "collapsed": false,
    "deletable": true,
    "editable": true
   },
   "outputs": [
    {
     "name": "stdout",
     "output_type": "stream",
     "text": [
      "Checking the Training on a Single Batch...\n",
      "Epoch  1, CIFAR-10 Batch 1:  Calculated loss: 2.2810444831848145 ______  Calculated accuracy: 0.14559999108314514\n",
      "Epoch  2, CIFAR-10 Batch 1:  Calculated loss: 2.1629111766815186 ______  Calculated accuracy: 0.24739998579025269\n",
      "Epoch  3, CIFAR-10 Batch 1:  Calculated loss: 1.9744808673858643 ______  Calculated accuracy: 0.3043999969959259\n",
      "Epoch  4, CIFAR-10 Batch 1:  Calculated loss: 1.8243954181671143 ______  Calculated accuracy: 0.3959999680519104\n",
      "Epoch  5, CIFAR-10 Batch 1:  Calculated loss: 1.6611236333847046 ______  Calculated accuracy: 0.4009999930858612\n",
      "Epoch  6, CIFAR-10 Batch 1:  Calculated loss: 1.5536893606185913 ______  Calculated accuracy: 0.43439996242523193\n",
      "Epoch  7, CIFAR-10 Batch 1:  Calculated loss: 1.4662925004959106 ______  Calculated accuracy: 0.46039995551109314\n",
      "Epoch  8, CIFAR-10 Batch 1:  Calculated loss: 1.3257397413253784 ______  Calculated accuracy: 0.4739999771118164\n",
      "Epoch  9, CIFAR-10 Batch 1:  Calculated loss: 1.2530405521392822 ______  Calculated accuracy: 0.48319998383522034\n",
      "Epoch 10, CIFAR-10 Batch 1:  Calculated loss: 1.18311607837677 ______  Calculated accuracy: 0.4959999620914459\n",
      "Epoch 11, CIFAR-10 Batch 1:  Calculated loss: 1.1184076070785522 ______  Calculated accuracy: 0.502799928188324\n",
      "Epoch 12, CIFAR-10 Batch 1:  Calculated loss: 1.0288728475570679 ______  Calculated accuracy: 0.4995999336242676\n",
      "Epoch 13, CIFAR-10 Batch 1:  Calculated loss: 0.9956324100494385 ______  Calculated accuracy: 0.49379998445510864\n",
      "Epoch 14, CIFAR-10 Batch 1:  Calculated loss: 0.8800854086875916 ______  Calculated accuracy: 0.5144000053405762\n",
      "Epoch 15, CIFAR-10 Batch 1:  Calculated loss: 0.7955500483512878 ______  Calculated accuracy: 0.5169999599456787\n",
      "Epoch 16, CIFAR-10 Batch 1:  Calculated loss: 0.733067512512207 ______  Calculated accuracy: 0.5369999408721924\n",
      "Epoch 17, CIFAR-10 Batch 1:  Calculated loss: 0.6812913417816162 ______  Calculated accuracy: 0.539199948310852\n",
      "Epoch 18, CIFAR-10 Batch 1:  Calculated loss: 0.5795090198516846 ______  Calculated accuracy: 0.5411999225616455\n",
      "Epoch 19, CIFAR-10 Batch 1:  Calculated loss: 0.562484622001648 ______  Calculated accuracy: 0.5413999557495117\n",
      "Epoch 20, CIFAR-10 Batch 1:  Calculated loss: 0.5011506676673889 ______  Calculated accuracy: 0.556999921798706\n"
     ]
    }
   ],
   "source": [
    "\"\"\"\n",
    "DON'T MODIFY ANYTHING IN THIS CELL\n",
    "\"\"\"\n",
    "print('Checking the Training on a Single Batch...')\n",
    "with tf.Session() as sess:\n",
    "    # Initializing the variables\n",
    "    sess.run(tf.global_variables_initializer())\n",
    "    \n",
    "    # Training cycle\n",
    "    for epoch in range(epochs):\n",
    "        batch_i = 1\n",
    "        for batch_features, batch_labels in helper.load_preprocess_training_batch(batch_i, batch_size):\n",
    "            train_neural_network(sess, optimizer, keep_probability, batch_features, batch_labels)\n",
    "        print('Epoch {:>2}, CIFAR-10 Batch {}:  '.format(epoch + 1, batch_i), end='')\n",
    "        print_stats(sess, batch_features, batch_labels, cost, accuracy)"
   ]
  },
  {
   "cell_type": "markdown",
   "metadata": {
    "deletable": true,
    "editable": true
   },
   "source": [
    "### Fully Train the Model\n",
    "Now that you got a good accuracy with a single CIFAR-10 batch, try it with all five batches."
   ]
  },
  {
   "cell_type": "code",
   "execution_count": 96,
   "metadata": {
    "collapsed": false,
    "deletable": true,
    "editable": true
   },
   "outputs": [
    {
     "name": "stdout",
     "output_type": "stream",
     "text": [
      "Training...\n",
      "Epoch  1, CIFAR-10 Batch 1:  Calculated loss: 2.274508476257324 ______  Calculated accuracy: 0.18379999697208405\n",
      "Epoch  1, CIFAR-10 Batch 2:  Calculated loss: 2.1205310821533203 ______  Calculated accuracy: 0.2541999816894531\n",
      "Epoch  1, CIFAR-10 Batch 3:  Calculated loss: 1.8095738887786865 ______  Calculated accuracy: 0.34619995951652527\n",
      "Epoch  1, CIFAR-10 Batch 4:  Calculated loss: 1.725500226020813 ______  Calculated accuracy: 0.3903999626636505\n",
      "Epoch  1, CIFAR-10 Batch 5:  Calculated loss: 1.684149146080017 ______  Calculated accuracy: 0.41659995913505554\n",
      "Epoch  2, CIFAR-10 Batch 1:  Calculated loss: 1.8365936279296875 ______  Calculated accuracy: 0.44819995760917664\n",
      "Epoch  2, CIFAR-10 Batch 2:  Calculated loss: 1.5842357873916626 ______  Calculated accuracy: 0.4659999907016754\n",
      "Epoch  2, CIFAR-10 Batch 3:  Calculated loss: 1.290255069732666 ______  Calculated accuracy: 0.480599969625473\n",
      "Epoch  2, CIFAR-10 Batch 4:  Calculated loss: 1.548050880432129 ______  Calculated accuracy: 0.47179991006851196\n",
      "Epoch  2, CIFAR-10 Batch 5:  Calculated loss: 1.4285526275634766 ______  Calculated accuracy: 0.5003999471664429\n",
      "Epoch  3, CIFAR-10 Batch 1:  Calculated loss: 1.514204740524292 ______  Calculated accuracy: 0.48659998178482056\n",
      "Epoch  3, CIFAR-10 Batch 2:  Calculated loss: 1.361422061920166 ______  Calculated accuracy: 0.5067999362945557\n",
      "Epoch  3, CIFAR-10 Batch 3:  Calculated loss: 1.1024169921875 ______  Calculated accuracy: 0.4949999451637268\n",
      "Epoch  3, CIFAR-10 Batch 4:  Calculated loss: 1.2965595722198486 ______  Calculated accuracy: 0.5191999673843384\n",
      "Epoch  3, CIFAR-10 Batch 5:  Calculated loss: 1.2345607280731201 ______  Calculated accuracy: 0.5485999584197998\n",
      "Epoch  4, CIFAR-10 Batch 1:  Calculated loss: 1.2575271129608154 ______  Calculated accuracy: 0.5421999096870422\n",
      "Epoch  4, CIFAR-10 Batch 2:  Calculated loss: 1.1074018478393555 ______  Calculated accuracy: 0.5531999468803406\n",
      "Epoch  4, CIFAR-10 Batch 3:  Calculated loss: 0.8634424209594727 ______  Calculated accuracy: 0.5495998859405518\n",
      "Epoch  4, CIFAR-10 Batch 4:  Calculated loss: 1.1420869827270508 ______  Calculated accuracy: 0.5691999197006226\n",
      "Epoch  4, CIFAR-10 Batch 5:  Calculated loss: 0.9795362949371338 ______  Calculated accuracy: 0.5867999196052551\n",
      "Epoch  5, CIFAR-10 Batch 1:  Calculated loss: 1.0707643032073975 ______  Calculated accuracy: 0.5783999562263489\n",
      "Epoch  5, CIFAR-10 Batch 2:  Calculated loss: 0.9073731303215027 ______  Calculated accuracy: 0.5799998641014099\n",
      "Epoch  5, CIFAR-10 Batch 3:  Calculated loss: 0.7332854866981506 ______  Calculated accuracy: 0.5917999744415283\n",
      "Epoch  5, CIFAR-10 Batch 4:  Calculated loss: 0.9513329863548279 ______  Calculated accuracy: 0.5923999547958374\n",
      "Epoch  5, CIFAR-10 Batch 5:  Calculated loss: 0.8355513215065002 ______  Calculated accuracy: 0.5999999642372131\n",
      "Epoch  6, CIFAR-10 Batch 1:  Calculated loss: 0.9640675783157349 ______  Calculated accuracy: 0.6065999269485474\n",
      "Epoch  6, CIFAR-10 Batch 2:  Calculated loss: 0.7544891238212585 ______  Calculated accuracy: 0.5981999039649963\n",
      "Epoch  6, CIFAR-10 Batch 3:  Calculated loss: 0.597683310508728 ______  Calculated accuracy: 0.6131998896598816\n",
      "Epoch  6, CIFAR-10 Batch 4:  Calculated loss: 0.8451619148254395 ______  Calculated accuracy: 0.6031998991966248\n",
      "Epoch  6, CIFAR-10 Batch 5:  Calculated loss: 0.726870059967041 ______  Calculated accuracy: 0.6119999289512634\n",
      "Epoch  7, CIFAR-10 Batch 1:  Calculated loss: 0.8311623334884644 ______  Calculated accuracy: 0.6031999588012695\n",
      "Epoch  7, CIFAR-10 Batch 2:  Calculated loss: 0.6236559748649597 ______  Calculated accuracy: 0.6137999296188354\n",
      "Epoch  7, CIFAR-10 Batch 3:  Calculated loss: 0.5582613348960876 ______  Calculated accuracy: 0.6235999464988708\n",
      "Epoch  7, CIFAR-10 Batch 4:  Calculated loss: 0.6795883774757385 ______  Calculated accuracy: 0.6357998847961426\n",
      "Epoch  7, CIFAR-10 Batch 5:  Calculated loss: 0.6277773380279541 ______  Calculated accuracy: 0.6283999085426331\n",
      "Epoch  8, CIFAR-10 Batch 1:  Calculated loss: 0.7193856239318848 ______  Calculated accuracy: 0.6261999607086182\n",
      "Epoch  8, CIFAR-10 Batch 2:  Calculated loss: 0.5223989486694336 ______  Calculated accuracy: 0.6161998510360718\n",
      "Epoch  8, CIFAR-10 Batch 3:  Calculated loss: 0.44417670369148254 ______  Calculated accuracy: 0.6513999104499817\n",
      "Epoch  8, CIFAR-10 Batch 4:  Calculated loss: 0.6603668928146362 ______  Calculated accuracy: 0.6433998346328735\n",
      "Epoch  8, CIFAR-10 Batch 5:  Calculated loss: 0.5103117823600769 ______  Calculated accuracy: 0.6463999152183533\n",
      "Epoch  9, CIFAR-10 Batch 1:  Calculated loss: 0.6047312021255493 ______  Calculated accuracy: 0.6439998745918274\n",
      "Epoch  9, CIFAR-10 Batch 2:  Calculated loss: 0.5101417303085327 ______  Calculated accuracy: 0.6423998475074768\n",
      "Epoch  9, CIFAR-10 Batch 3:  Calculated loss: 0.39332443475723267 ______  Calculated accuracy: 0.6505998373031616\n",
      "Epoch  9, CIFAR-10 Batch 4:  Calculated loss: 0.5664995312690735 ______  Calculated accuracy: 0.644399881362915\n",
      "Epoch  9, CIFAR-10 Batch 5:  Calculated loss: 0.4329654574394226 ______  Calculated accuracy: 0.6525998711585999\n",
      "Epoch 10, CIFAR-10 Batch 1:  Calculated loss: 0.5859118103981018 ______  Calculated accuracy: 0.6267998218536377\n",
      "Epoch 10, CIFAR-10 Batch 2:  Calculated loss: 0.4774795472621918 ______  Calculated accuracy: 0.6439998745918274\n",
      "Epoch 10, CIFAR-10 Batch 3:  Calculated loss: 0.3215861916542053 ______  Calculated accuracy: 0.6689999103546143\n",
      "Epoch 10, CIFAR-10 Batch 4:  Calculated loss: 0.43744349479675293 ______  Calculated accuracy: 0.6655998826026917\n",
      "Epoch 10, CIFAR-10 Batch 5:  Calculated loss: 0.3599984347820282 ______  Calculated accuracy: 0.6553999185562134\n",
      "Epoch 11, CIFAR-10 Batch 1:  Calculated loss: 0.5054388642311096 ______  Calculated accuracy: 0.6385998725891113\n",
      "Epoch 11, CIFAR-10 Batch 2:  Calculated loss: 0.38090449571609497 ______  Calculated accuracy: 0.6463998556137085\n",
      "Epoch 11, CIFAR-10 Batch 3:  Calculated loss: 0.3346986770629883 ______  Calculated accuracy: 0.6643998622894287\n",
      "Epoch 11, CIFAR-10 Batch 4:  Calculated loss: 0.3921443223953247 ______  Calculated accuracy: 0.6709998250007629\n",
      "Epoch 11, CIFAR-10 Batch 5:  Calculated loss: 0.33524399995803833 ______  Calculated accuracy: 0.6693998575210571\n",
      "Epoch 12, CIFAR-10 Batch 1:  Calculated loss: 0.47472596168518066 ______  Calculated accuracy: 0.6433998942375183\n",
      "Epoch 12, CIFAR-10 Batch 2:  Calculated loss: 0.3474937677383423 ______  Calculated accuracy: 0.665199875831604\n",
      "Epoch 12, CIFAR-10 Batch 3:  Calculated loss: 0.28434333205223083 ______  Calculated accuracy: 0.6705998182296753\n",
      "Epoch 12, CIFAR-10 Batch 4:  Calculated loss: 0.36704736948013306 ______  Calculated accuracy: 0.6739999055862427\n",
      "Epoch 12, CIFAR-10 Batch 5:  Calculated loss: 0.2852066159248352 ______  Calculated accuracy: 0.6711999177932739\n",
      "Epoch 13, CIFAR-10 Batch 1:  Calculated loss: 0.40901970863342285 ______  Calculated accuracy: 0.6309998631477356\n",
      "Epoch 13, CIFAR-10 Batch 2:  Calculated loss: 0.29685288667678833 ______  Calculated accuracy: 0.6641998887062073\n",
      "Epoch 13, CIFAR-10 Batch 3:  Calculated loss: 0.2546807527542114 ______  Calculated accuracy: 0.6797998547554016\n",
      "Epoch 13, CIFAR-10 Batch 4:  Calculated loss: 0.2785763144493103 ______  Calculated accuracy: 0.6787998676300049\n",
      "Epoch 13, CIFAR-10 Batch 5:  Calculated loss: 0.2994411587715149 ______  Calculated accuracy: 0.6605998873710632\n",
      "Epoch 14, CIFAR-10 Batch 1:  Calculated loss: 0.3622073829174042 ______  Calculated accuracy: 0.6697998642921448\n",
      "Epoch 14, CIFAR-10 Batch 2:  Calculated loss: 0.25452786684036255 ______  Calculated accuracy: 0.6637999415397644\n",
      "Epoch 14, CIFAR-10 Batch 3:  Calculated loss: 0.20397354662418365 ______  Calculated accuracy: 0.6743999123573303\n",
      "Epoch 14, CIFAR-10 Batch 4:  Calculated loss: 0.28571081161499023 ______  Calculated accuracy: 0.6739998459815979\n",
      "Epoch 14, CIFAR-10 Batch 5:  Calculated loss: 0.2471453696489334 ______  Calculated accuracy: 0.6697998642921448\n",
      "Epoch 15, CIFAR-10 Batch 1:  Calculated loss: 0.31333038210868835 ______  Calculated accuracy: 0.6769998669624329\n",
      "Epoch 15, CIFAR-10 Batch 2:  Calculated loss: 0.23640845715999603 ______  Calculated accuracy: 0.6661998629570007\n",
      "Epoch 15, CIFAR-10 Batch 3:  Calculated loss: 0.1994560956954956 ______  Calculated accuracy: 0.682999849319458\n",
      "Epoch 15, CIFAR-10 Batch 4:  Calculated loss: 0.2530514895915985 ______  Calculated accuracy: 0.6803998947143555\n",
      "Epoch 15, CIFAR-10 Batch 5:  Calculated loss: 0.26186880469322205 ______  Calculated accuracy: 0.6527999043464661\n",
      "Epoch 16, CIFAR-10 Batch 1:  Calculated loss: 0.270918607711792 ______  Calculated accuracy: 0.6763998866081238\n",
      "Epoch 16, CIFAR-10 Batch 2:  Calculated loss: 0.23291800916194916 ______  Calculated accuracy: 0.6783998608589172\n",
      "Epoch 16, CIFAR-10 Batch 3:  Calculated loss: 0.1952143907546997 ______  Calculated accuracy: 0.6623998284339905\n",
      "Epoch 16, CIFAR-10 Batch 4:  Calculated loss: 0.24880602955818176 ______  Calculated accuracy: 0.6861999034881592\n",
      "Epoch 16, CIFAR-10 Batch 5:  Calculated loss: 0.2642272114753723 ______  Calculated accuracy: 0.6657998561859131\n",
      "Epoch 17, CIFAR-10 Batch 1:  Calculated loss: 0.2935020625591278 ______  Calculated accuracy: 0.6765998601913452\n",
      "Epoch 17, CIFAR-10 Batch 2:  Calculated loss: 0.1865488588809967 ______  Calculated accuracy: 0.6727998852729797\n",
      "Epoch 17, CIFAR-10 Batch 3:  Calculated loss: 0.16040506958961487 ______  Calculated accuracy: 0.6741999387741089\n",
      "Epoch 17, CIFAR-10 Batch 4:  Calculated loss: 0.2158794403076172 ______  Calculated accuracy: 0.6855998635292053\n",
      "Epoch 17, CIFAR-10 Batch 5:  Calculated loss: 0.20132297277450562 ______  Calculated accuracy: 0.6751999258995056\n",
      "Epoch 18, CIFAR-10 Batch 1:  Calculated loss: 0.22454577684402466 ______  Calculated accuracy: 0.6873999238014221\n",
      "Epoch 18, CIFAR-10 Batch 2:  Calculated loss: 0.16061438620090485 ______  Calculated accuracy: 0.6665998101234436\n",
      "Epoch 18, CIFAR-10 Batch 3:  Calculated loss: 0.1290011703968048 ______  Calculated accuracy: 0.682999849319458\n",
      "Epoch 18, CIFAR-10 Batch 4:  Calculated loss: 0.1966295838356018 ______  Calculated accuracy: 0.6853998899459839\n",
      "Epoch 18, CIFAR-10 Batch 5:  Calculated loss: 0.20212095975875854 ______  Calculated accuracy: 0.6697999238967896\n",
      "Epoch 19, CIFAR-10 Batch 1:  Calculated loss: 0.2201274186372757 ______  Calculated accuracy: 0.6927999258041382\n",
      "Epoch 19, CIFAR-10 Batch 2:  Calculated loss: 0.13929302990436554 ______  Calculated accuracy: 0.6759998798370361\n",
      "Epoch 19, CIFAR-10 Batch 3:  Calculated loss: 0.11543590575456619 ______  Calculated accuracy: 0.6845999360084534\n",
      "Epoch 19, CIFAR-10 Batch 4:  Calculated loss: 0.1690906137228012 ______  Calculated accuracy: 0.6863999366760254\n",
      "Epoch 19, CIFAR-10 Batch 5:  Calculated loss: 0.15761226415634155 ______  Calculated accuracy: 0.6837998032569885\n",
      "Epoch 20, CIFAR-10 Batch 1:  Calculated loss: 0.20609654486179352 ______  Calculated accuracy: 0.671799898147583\n",
      "Epoch 20, CIFAR-10 Batch 2:  Calculated loss: 0.1357438713312149 ______  Calculated accuracy: 0.6793999075889587\n",
      "Epoch 20, CIFAR-10 Batch 3:  Calculated loss: 0.12143555283546448 ______  Calculated accuracy: 0.6643998622894287\n",
      "Epoch 20, CIFAR-10 Batch 4:  Calculated loss: 0.17114850878715515 ______  Calculated accuracy: 0.6871998310089111\n",
      "Epoch 20, CIFAR-10 Batch 5:  Calculated loss: 0.1477833092212677 ______  Calculated accuracy: 0.6753998398780823\n"
     ]
    }
   ],
   "source": [
    "\"\"\"\n",
    "DON'T MODIFY ANYTHING IN THIS CELL\n",
    "\"\"\"\n",
    "save_model_path = './image_classification'\n",
    "\n",
    "print('Training...')\n",
    "with tf.Session() as sess:\n",
    "    # Initializing the variables\n",
    "    sess.run(tf.global_variables_initializer())\n",
    "    \n",
    "    # Training cycle\n",
    "    for epoch in range(epochs):\n",
    "        # Loop over all batches\n",
    "        n_batches = 5\n",
    "        for batch_i in range(1, n_batches + 1):\n",
    "            for batch_features, batch_labels in helper.load_preprocess_training_batch(batch_i, batch_size):\n",
    "                train_neural_network(sess, optimizer, keep_probability, batch_features, batch_labels)\n",
    "            print('Epoch {:>2}, CIFAR-10 Batch {}:  '.format(epoch + 1, batch_i), end='')\n",
    "            print_stats(sess, batch_features, batch_labels, cost, accuracy)\n",
    "            \n",
    "    # Save Model\n",
    "    saver = tf.train.Saver()\n",
    "    save_path = saver.save(sess, save_model_path)"
   ]
  },
  {
   "cell_type": "markdown",
   "metadata": {
    "deletable": true,
    "editable": true
   },
   "source": [
    "# Checkpoint\n",
    "The model has been saved to disk.\n",
    "## Test Model\n",
    "Test your model against the test dataset.  This will be your final accuracy. You should have an accuracy greater than 50%. If you don't, keep tweaking the model architecture and parameters."
   ]
  },
  {
   "cell_type": "code",
   "execution_count": 97,
   "metadata": {
    "collapsed": false,
    "deletable": true,
    "editable": true
   },
   "outputs": [
    {
     "name": "stdout",
     "output_type": "stream",
     "text": [
      "Testing Accuracy: 0.6701171875\n",
      "\n"
     ]
    },
    {
     "data": {
      "image/png": "[encoded data removed]",
      "text/plain": [
       "<matplotlib.figure.Figure at 0x7fe414a48470>"
      ]
     },
     "metadata": {
      "image/png": {
       "height": 319,
       "width": 355
      }
     },
     "output_type": "display_data"
    }
   ],
   "source": [
    "\"\"\"\n",
    "DON'T MODIFY ANYTHING IN THIS CELL\n",
    "\"\"\"\n",
    "%matplotlib inline\n",
    "%config InlineBackend.figure_format = 'retina'\n",
    "\n",
    "import tensorflow as tf\n",
    "import pickle\n",
    "import helper\n",
    "import random\n",
    "\n",
    "# Set batch size if not already set\n",
    "try:\n",
    "    if batch_size:\n",
    "        pass\n",
    "except NameError:\n",
    "    batch_size = 64\n",
    "\n",
    "save_model_path = './image_classification'\n",
    "n_samples = 4\n",
    "top_n_predictions = 3\n",
    "\n",
    "def test_model():\n",
    "    \"\"\"\n",
    "    Test the saved model against the test dataset\n",
    "    \"\"\"\n",
    "\n",
    "    test_features, test_labels = pickle.load(open('preprocess_training.p', mode='rb'))\n",
    "    loaded_graph = tf.Graph()\n",
    "\n",
    "    with tf.Session(graph=loaded_graph) as sess:\n",
    "        # Load model\n",
    "        loader = tf.train.import_meta_graph(save_model_path + '.meta')\n",
    "        loader.restore(sess, save_model_path)\n",
    "\n",
    "        # Get Tensors from loaded model\n",
    "        loaded_x = loaded_graph.get_tensor_by_name('x:0')\n",
    "        loaded_y = loaded_graph.get_tensor_by_name('y:0')\n",
    "        loaded_keep_prob = loaded_graph.get_tensor_by_name('keep_prob:0')\n",
    "        loaded_logits = loaded_graph.get_tensor_by_name('logits:0')\n",
    "        loaded_acc = loaded_graph.get_tensor_by_name('accuracy:0')\n",
    "        \n",
    "        # Get accuracy in batches for memory limitations\n",
    "        test_batch_acc_total = 0\n",
    "        test_batch_count = 0\n",
    "        \n",
    "        for train_feature_batch, train_label_batch in helper.batch_features_labels(test_features, test_labels, batch_size):\n",
    "            test_batch_acc_total += sess.run(\n",
    "                loaded_acc,\n",
    "                feed_dict={loaded_x: train_feature_batch, loaded_y: train_label_batch, loaded_keep_prob: 1.0})\n",
    "            test_batch_count += 1\n",
    "\n",
    "        print('Testing Accuracy: {}\\n'.format(test_batch_acc_total/test_batch_count))\n",
    "\n",
    "        # Print Random Samples\n",
    "        random_test_features, random_test_labels = tuple(zip(*random.sample(list(zip(test_features, test_labels)), n_samples)))\n",
    "        random_test_predictions = sess.run(\n",
    "            tf.nn.top_k(tf.nn.softmax(loaded_logits), top_n_predictions),\n",
    "            feed_dict={loaded_x: random_test_features, loaded_y: random_test_labels, loaded_keep_prob: 1.0})\n",
    "        helper.display_image_predictions(random_test_features, random_test_labels, random_test_predictions)\n",
    "\n",
    "\n",
    "test_model()"
   ]
  },
  {
   "cell_type": "markdown",
   "metadata": {
    "deletable": true,
    "editable": true
   },
   "source": [
    "## Why 50-70% Accuracy?\n",
    "You might be wondering why you can't get an accuracy any higher. First things first, 50% isn't bad for a simple CNN.  Pure guessing would get you 10% accuracy. However, you might notice people are getting scores [well above 70%](http://rodrigob.github.io/are_we_there_yet/build/classification_datasets_results.html#43494641522d3130).  That's because we haven't taught you all there is to know about neural networks. We still need to cover a few more techniques.\n",
    "## Submitting This Project\n",
    "When submitting this project, make sure to run all the cells before saving the notebook.  Save the notebook file as \"dlnd_image_classification.ipynb\" and save it as a HTML file under \"File\" -> \"Download as\".  Include the \"helper.py\" and \"problem_unittests.py\" files in your submission."
   ]
  }
 ],
 "metadata": {
  "anaconda-cloud": {},
  "kernelspec": {
   "display_name": "Python 3",
   "language": "python",
   "name": "python3"
  },
  "language_info": {
   "codemirror_mode": {
    "name": "ipython",
    "version": 3
   },
   "file_extension": ".py",
   "mimetype": "text/x-python",
   "name": "python",
   "nbconvert_exporter": "python",
   "pygments_lexer": "ipython3",
   "version": "3.5.2"
  },
  "widgets": {
   "state": {},
   "version": "1.1.2"
  }
 },
 "nbformat": 4,
 "nbformat_minor": 0
}
